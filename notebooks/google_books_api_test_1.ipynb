{
 "cells": [
  {
   "cell_type": "code",
   "execution_count": 24,
   "source": [
    "import requests\n",
    "import json\n",
    "\n",
    "from urllib.parse import quote\n"
   ],
   "outputs": [],
   "metadata": {}
  },
  {
   "cell_type": "code",
   "execution_count": 37,
   "source": [
    "with open('../api_key.txt') as f:\n",
    "    api_key = f.readline()"
   ],
   "outputs": [],
   "metadata": {}
  },
  {
   "cell_type": "code",
   "execution_count": 33,
   "source": [
    "def search_book(title, api_key, n_results=5):\n",
    "    title_enc = quote(title)\n",
    "\n",
    "    query = f'https://www.googleapis.com/books/v1/volumes?q={title_enc}&key={api_key}'\n",
    "    response = requests.get(query)\n",
    "\n",
    "    if response.status_code != '200':\n",
    "        return None\n",
    "    \n",
    "    json = response.json()\n",
    "\n",
    "    n_returned_items = json.get('totalItems')\n",
    "    if n_returned_items == 0:\n",
    "        print('No results returned')\n",
    "        return None\n",
    "    \n",
    "    for i in range(min(n_returned_items, n_results)):\n",
    "        item = json.get('items')[i]\n",
    "        print(item)\n",
    "\n",
    "\n",
    "    return response.json()\n"
   ],
   "outputs": [],
   "metadata": {}
  },
  {
   "cell_type": "code",
   "execution_count": 34,
   "source": [
    "book_title = 'fastai deep'\n",
    "d = search_book(book_title, api_key)"
   ],
   "outputs": [],
   "metadata": {}
  }
 ],
 "metadata": {
  "orig_nbformat": 4,
  "language_info": {
   "name": "python",
   "version": "3.8.12",
   "mimetype": "text/x-python",
   "codemirror_mode": {
    "name": "ipython",
    "version": 3
   },
   "pygments_lexer": "ipython3",
   "nbconvert_exporter": "python",
   "file_extension": ".py"
  },
  "kernelspec": {
   "name": "python3",
   "display_name": "Python 3.8.12 64-bit ('alexandria': conda)"
  },
  "interpreter": {
   "hash": "a00acf4f25b919e95725050ea6aa3dd612ae9a3b03519083fd4c2e3275cc4b8b"
  }
 },
 "nbformat": 4,
 "nbformat_minor": 2
}