{
 "cells": [
  {
   "cell_type": "code",
   "execution_count": 1,
   "source": [
    "import pandas as pd\n",
    "import numpy as np\n",
    "import cv2 \n",
    "import pytesseract\n",
    "\n",
    "from imutils.object_detection import non_max_suppression\n",
    "from pytesseract import Output"
   ],
   "outputs": [],
   "metadata": {}
  },
  {
   "cell_type": "code",
   "execution_count": 2,
   "source": [
    "img = cv2.imread('../data/IMG_0015.jpeg')"
   ],
   "outputs": [],
   "metadata": {}
  },
  {
   "cell_type": "code",
   "execution_count": 5,
   "source": [
    "d = pytesseract.image_to_data(img, output_type=Output.DICT)\n",
    "print(d.keys())"
   ],
   "outputs": [
    {
     "output_type": "stream",
     "name": "stdout",
     "text": [
      "dict_keys(['level', 'page_num', 'block_num', 'par_num', 'line_num', 'word_num', 'left', 'top', 'width', 'height', 'conf', 'text'])\n"
     ]
    }
   ],
   "metadata": {}
  },
  {
   "cell_type": "code",
   "execution_count": 4,
   "source": [
    "n_boxes = len(d['text'])\n",
    "img2 = img\n",
    "for i in range(n_boxes):\n",
    "    if int(d['conf'][i]) > 20:\n",
    "        (x, y, w, h) = (d['left'][i], d['top'][i], d['width'][i], d['height'][i])\n",
    "        img2 = cv2.rectangle(img2, (x, y), (x + w, y + h), (0, 255, 0), 3)\n",
    "\n",
    "cv2.imshow('img', img2)\n",
    "cv2.waitKey(0)"
   ],
   "outputs": [
    {
     "output_type": "execute_result",
     "data": {
      "text/plain": [
       "48"
      ]
     },
     "metadata": {},
     "execution_count": 4
    }
   ],
   "metadata": {}
  }
 ],
 "metadata": {
  "orig_nbformat": 4,
  "language_info": {
   "name": "python",
   "version": "3.8.12",
   "mimetype": "text/x-python",
   "codemirror_mode": {
    "name": "ipython",
    "version": 3
   },
   "pygments_lexer": "ipython3",
   "nbconvert_exporter": "python",
   "file_extension": ".py"
  },
  "kernelspec": {
   "name": "python3",
   "display_name": "Python 3.8.12 64-bit ('alexandria': conda)"
  },
  "interpreter": {
   "hash": "a00acf4f25b919e95725050ea6aa3dd612ae9a3b03519083fd4c2e3275cc4b8b"
  }
 },
 "nbformat": 4,
 "nbformat_minor": 2
}